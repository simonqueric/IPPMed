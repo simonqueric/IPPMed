{
 "cells": [
  {
   "cell_type": "code",
   "execution_count": 1,
   "id": "92a1c738",
   "metadata": {},
   "outputs": [],
   "source": [
    "# load libraries\n",
    "import nibabel as nib\n",
    "import matplotlib.pyplot as plt\n",
    "import pandas as pd\n",
    "import numpy as np\n",
    "from ipywidgets import interact\n",
    "from PIL import Image\n",
    "import os\n",
    "import torch\n",
    "import torch.nn as nn\n",
    "import torch.nn.functional as F\n",
    "from torch.utils.data import Dataset\n",
    "from torchvision import transforms\n",
    "import skimage.exposure as exposure\n",
    "from torch.utils.data import DataLoader\n",
    "import shutil\n",
    "from model import conv_block, encoder_block, decoder_block, UNet"
   ]
  },
  {
   "cell_type": "code",
   "execution_count": 15,
   "id": "f2e8b340",
   "metadata": {},
   "outputs": [
    {
     "name": "stdout",
     "output_type": "stream",
     "text": [
      "cuda available\n"
     ]
    }
   ],
   "source": [
    "if torch.cuda.is_available():\n",
    "    print(\"cuda available\")    \n",
    "    device = torch.device(\"cuda\")\n",
    "else:\n",
    "    print(\"not available\")\n",
    "    device = torch.device(\"cpu\")"
   ]
  },
  {
   "cell_type": "code",
   "execution_count": 17,
   "id": "8a51d8ed",
   "metadata": {},
   "outputs": [
    {
     "data": {
      "text/plain": [
       "<All keys matched successfully>"
      ]
     },
     "execution_count": 17,
     "metadata": {},
     "output_type": "execute_result"
    }
   ],
   "source": [
    "model = UNet()\n",
    "model = model.to(device)\n",
    "model.load_state_dict(torch.load(\"checkpoints/checkpoint_unet2d_relu_lr=1e-4_rescale_t=0.5_adam_20_epochs_batch=16_reduce_scheduler.pth\", map_location=device))"
   ]
  },
  {
   "cell_type": "code",
   "execution_count": 18,
   "id": "79cba780",
   "metadata": {},
   "outputs": [],
   "source": [
    "test = \"data/test/volume/\"\n",
    "files = os.listdir(test)"
   ]
  },
  {
   "cell_type": "code",
   "execution_count": 20,
   "id": "00ed0164",
   "metadata": {},
   "outputs": [],
   "source": [
    "#os.mkdir(\"inferences\")"
   ]
  },
  {
   "cell_type": "code",
   "execution_count": 22,
   "id": "2f2eb9b3",
   "metadata": {},
   "outputs": [],
   "source": [
    "for file in files : \n",
    "    img = nib.load(test+file)\n",
    "    img_v = img.get_fdata()\n",
    "    x, y, z = img_v.shape\n",
    "    prediction = np.zeros((x, y, z))\n",
    "    img_vol = torch.from_numpy(img_v).to(torch.float32).unsqueeze(0).to(device)\n",
    "    for idx in range(z):\n",
    "        x = img_vol.unsqueeze(0)[:,:,:,:,idx]\n",
    "        pred = model(x)\n",
    "        prediction[:,:,idx] = (torch.sigmoid(pred).squeeze(0, 1).cpu().detach().numpy()>.5)\n",
    "    prediction = nib.Nifti1Image(prediction, img.affine)\n",
    "    nib.save(prediction, \"inferences/\"+file[6:9]+\".nii.gz\")"
   ]
  },
  {
   "cell_type": "code",
   "execution_count": null,
   "id": "ad0cece6",
   "metadata": {},
   "outputs": [],
   "source": [
    "img = nib.load(\"inferences/\")\n",
    "img_v = img.get_fdata()"
   ]
  },
  {
   "cell_type": "code",
   "execution_count": 29,
   "id": "965d318a",
   "metadata": {},
   "outputs": [],
   "source": [
    "x = \"inferencesLUNG1-038_vol.nii.gz\""
   ]
  },
  {
   "cell_type": "code",
   "execution_count": 13,
   "id": "ff496856",
   "metadata": {},
   "outputs": [],
   "source": [
    "liste = os.listdir(\"inferences/\")\n",
    "liste.sort()"
   ]
  },
  {
   "cell_type": "code",
   "execution_count": 14,
   "id": "a52a9ce8",
   "metadata": {
    "scrolled": true
   },
   "outputs": [
    {
     "data": {
      "text/plain": [
       "['LUNG1-001.nii.gz',\n",
       " 'LUNG1-002.nii.gz',\n",
       " 'LUNG1-003.nii.gz',\n",
       " 'LUNG1-004.nii.gz',\n",
       " 'LUNG1-005.nii.gz',\n",
       " 'LUNG1-006.nii.gz',\n",
       " 'LUNG1-007.nii.gz',\n",
       " 'LUNG1-008.nii.gz',\n",
       " 'LUNG1-009.nii.gz',\n",
       " 'LUNG1-010.nii.gz',\n",
       " 'LUNG1-011.nii.gz',\n",
       " 'LUNG1-012.nii.gz',\n",
       " 'LUNG1-013.nii.gz',\n",
       " 'LUNG1-014.nii.gz',\n",
       " 'LUNG1-015.nii.gz',\n",
       " 'LUNG1-016.nii.gz',\n",
       " 'LUNG1-017.nii.gz',\n",
       " 'LUNG1-018.nii.gz',\n",
       " 'LUNG1-019.nii.gz',\n",
       " 'LUNG1-020.nii.gz',\n",
       " 'LUNG1-021.nii.gz',\n",
       " 'LUNG1-022.nii.gz',\n",
       " 'LUNG1-023.nii.gz',\n",
       " 'LUNG1-024.nii.gz',\n",
       " 'LUNG1-025.nii.gz',\n",
       " 'LUNG1-026.nii.gz',\n",
       " 'LUNG1-027.nii.gz',\n",
       " 'LUNG1-028.nii.gz',\n",
       " 'LUNG1-029.nii.gz',\n",
       " 'LUNG1-030.nii.gz',\n",
       " 'LUNG1-031.nii.gz',\n",
       " 'LUNG1-032.nii.gz',\n",
       " 'LUNG1-033.nii.gz',\n",
       " 'LUNG1-034.nii.gz',\n",
       " 'LUNG1-035.nii.gz',\n",
       " 'LUNG1-036.nii.gz',\n",
       " 'LUNG1-037.nii.gz',\n",
       " 'LUNG1-038.nii.gz',\n",
       " 'LUNG1-039.nii.gz',\n",
       " 'LUNG1-040.nii.gz',\n",
       " 'LUNG1-041.nii.gz',\n",
       " 'LUNG1-042.nii.gz',\n",
       " 'LUNG1-043.nii.gz',\n",
       " 'LUNG1-044.nii.gz',\n",
       " 'LUNG1-045.nii.gz',\n",
       " 'LUNG1-046.nii.gz',\n",
       " 'LUNG1-047.nii.gz',\n",
       " 'LUNG1-048.nii.gz',\n",
       " 'LUNG1-049.nii.gz',\n",
       " 'LUNG1-050.nii.gz',\n",
       " 'LUNG1-051.nii.gz',\n",
       " 'LUNG1-052.nii.gz',\n",
       " 'LUNG1-053.nii.gz',\n",
       " 'LUNG1-054.nii.gz',\n",
       " 'LUNG1-055.nii.gz',\n",
       " 'LUNG1-056.nii.gz',\n",
       " 'LUNG1-057.nii.gz',\n",
       " 'LUNG1-058.nii.gz',\n",
       " 'LUNG1-059.nii.gz',\n",
       " 'LUNG1-060.nii.gz',\n",
       " 'LUNG1-061.nii.gz',\n",
       " 'LUNG1-062.nii.gz',\n",
       " 'LUNG1-063.nii.gz',\n",
       " 'LUNG1-064.nii.gz',\n",
       " 'LUNG1-065.nii.gz',\n",
       " 'LUNG1-066.nii.gz',\n",
       " 'LUNG1-067.nii.gz',\n",
       " 'LUNG1-068.nii.gz',\n",
       " 'LUNG1-069.nii.gz',\n",
       " 'LUNG1-070.nii.gz',\n",
       " 'LUNG1-071.nii.gz',\n",
       " 'LUNG1-072.nii.gz',\n",
       " 'LUNG1-073.nii.gz',\n",
       " 'LUNG1-074.nii.gz',\n",
       " 'LUNG1-075.nii.gz',\n",
       " 'LUNG1-076.nii.gz',\n",
       " 'LUNG1-077.nii.gz',\n",
       " 'LUNG1-078.nii.gz',\n",
       " 'LUNG1-079.nii.gz',\n",
       " 'LUNG1-080.nii.gz',\n",
       " 'LUNG1-081.nii.gz',\n",
       " 'LUNG1-082.nii.gz',\n",
       " 'LUNG1-083.nii.gz',\n",
       " 'LUNG1-084.nii.gz',\n",
       " 'LUNG1-085.nii.gz',\n",
       " 'LUNG1-086.nii.gz',\n",
       " 'LUNG1-087.nii.gz',\n",
       " 'LUNG1-088.nii.gz',\n",
       " 'LUNG1-089.nii.gz',\n",
       " 'LUNG1-090.nii.gz',\n",
       " 'LUNG1-091.nii.gz',\n",
       " 'LUNG1-092.nii.gz',\n",
       " 'LUNG1-093.nii.gz',\n",
       " 'LUNG1-094.nii.gz',\n",
       " 'LUNG1-095.nii.gz',\n",
       " 'LUNG1-096.nii.gz',\n",
       " 'LUNG1-097.nii.gz',\n",
       " 'LUNG1-098.nii.gz',\n",
       " 'LUNG1-099.nii.gz',\n",
       " 'LUNG1-100.nii.gz']"
      ]
     },
     "execution_count": 14,
     "metadata": {},
     "output_type": "execute_result"
    }
   ],
   "source": [
    "liste"
   ]
  },
  {
   "cell_type": "code",
   "execution_count": 6,
   "id": "0e4f20ae",
   "metadata": {},
   "outputs": [
    {
     "data": {
      "text/plain": [
       "['ajsbas', 'aknas']"
      ]
     },
     "execution_count": 6,
     "metadata": {},
     "output_type": "execute_result"
    }
   ],
   "source": [
    "\"ajsbas.aknas\".split(\".\")"
   ]
  },
  {
   "cell_type": "code",
   "execution_count": 8,
   "id": "7721a106",
   "metadata": {},
   "outputs": [],
   "source": [
    "for file in liste : \n",
    "    s = file.split(\".\")\n",
    "    i = int(s[0])\n",
    "    if i<10 : \n",
    "        os.rename(\"inferences/\"+file, \"inferences/LUNG1-00\"+str(i)+\".nii.gz\")        \n",
    "    elif i<100 : \n",
    "        os.rename(\"inferences/\"+file, \"inferences/LUNG1-0\"+str(i)+\".nii.gz\")  \n",
    "    else : \n",
    "        os.rename(\"inferences/\"+file, \"inferences/LUNG1-\"+str(i)+\".nii.gz\")        "
   ]
  },
  {
   "cell_type": "code",
   "execution_count": 11,
   "id": "759bccf8",
   "metadata": {},
   "outputs": [],
   "source": [
    "os.rename(\"inferences/100.nii.gz\", \"inferences/LUNG1-100.nii.gz\")        "
   ]
  },
  {
   "cell_type": "code",
   "execution_count": null,
   "id": "35ffe871",
   "metadata": {},
   "outputs": [],
   "source": []
  }
 ],
 "metadata": {
  "kernelspec": {
   "display_name": "Python 3 (ipykernel)",
   "language": "python",
   "name": "python3"
  },
  "language_info": {
   "codemirror_mode": {
    "name": "ipython",
    "version": 3
   },
   "file_extension": ".py",
   "mimetype": "text/x-python",
   "name": "python",
   "nbconvert_exporter": "python",
   "pygments_lexer": "ipython3",
   "version": "3.9.13"
  }
 },
 "nbformat": 4,
 "nbformat_minor": 5
}
