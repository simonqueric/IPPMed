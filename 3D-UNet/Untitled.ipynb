{
 "cells": [
  {
   "cell_type": "code",
   "execution_count": 1,
   "id": "d323b4c5",
   "metadata": {},
   "outputs": [],
   "source": [
    "from unet3d import *\n",
    "import torch\n",
    "import os\n",
    "from torch.utils.data import Dataset, DataLoader\n",
    "import torch.optim as optim\n",
    "import numpy as np\n",
    "import nibabel as nib  # Assuming you're working with medical imaging data, you may need nibabel for reading NIfTI files\n"
   ]
  },
  {
   "cell_type": "code",
   "execution_count": 2,
   "id": "6afbaa1b",
   "metadata": {},
   "outputs": [
    {
     "name": "stdout",
     "output_type": "stream",
     "text": [
      "{'lung_segmentation': '/home/ids/ext-6398/Competition/data_challenge/train/lungs_seg/LUNG1-209_lungseg.nii.gz', 'tumor_mask': '/home/ids/ext-6398/Competition/data_challenge/train/seg/LUNG1-209_seg.nii.gz', 'scan_volume': '/home/ids/ext-6398/Competition/data_challenge/train/volume/LUNG1-209_vol.nii.gz'}\n",
      "{'lung_segmentation': '/home/ids/ext-6398/Competition/data_challenge/train/lungs_seg/LUNG1-217_lungseg.nii.gz', 'tumor_mask': '/home/ids/ext-6398/Competition/data_challenge/train/seg/LUNG1-217_seg.nii.gz', 'scan_volume': '/home/ids/ext-6398/Competition/data_challenge/train/volume/LUNG1-217_vol.nii.gz'}\n",
      "{'lung_segmentation': '/home/ids/ext-6398/Competition/data_challenge/train/lungs_seg/LUNG1-143_lungseg.nii.gz', 'tumor_mask': '/home/ids/ext-6398/Competition/data_challenge/train/seg/LUNG1-143_seg.nii.gz', 'scan_volume': '/home/ids/ext-6398/Competition/data_challenge/train/volume/LUNG1-143_vol.nii.gz'}\n",
      "{'lung_segmentation': '/home/ids/ext-6398/Competition/data_challenge/train/lungs_seg/LUNG1-044_lungseg.nii.gz', 'tumor_mask': '/home/ids/ext-6398/Competition/data_challenge/train/seg/LUNG1-044_seg.nii.gz', 'scan_volume': '/home/ids/ext-6398/Competition/data_challenge/train/volume/LUNG1-044_vol.nii.gz'}\n",
      "{'lung_segmentation': '/home/ids/ext-6398/Competition/data_challenge/train/lungs_seg/LUNG1-254_lungseg.nii.gz', 'tumor_mask': '/home/ids/ext-6398/Competition/data_challenge/train/seg/LUNG1-254_seg.nii.gz', 'scan_volume': '/home/ids/ext-6398/Competition/data_challenge/train/volume/LUNG1-254_vol.nii.gz'}\n"
     ]
    }
   ],
   "source": [
    "class CustomDataset(Dataset):\n",
    "    def __init__(self, data_dir):\n",
    "        self.data_dir = data_dir\n",
    "        self.lung_seg_dir = os.path.join(data_dir, 'lungs_seg')\n",
    "        self.tumor_mask_dir = os.path.join(data_dir, 'seg')\n",
    "        self.scan_volume_dir = os.path.join(data_dir, 'volume')\n",
    "\n",
    "        # List the files available in the lung segmentation directory\n",
    "        self.file_list = os.listdir(self.lung_seg_dir)\n",
    "\n",
    "    def __len__(self):\n",
    "        return len(self.file_list)\n",
    "\n",
    "    def __getitem__(self, idx):\n",
    "        # Load lung segmentation, tumor mask, and scan volume for the given index\n",
    "        lung_seg_path = os.path.join(self.lung_seg_dir, self.file_list[idx])\n",
    "        base_filename = self.file_list[idx].split('_lungseg.nii.gz')[0]\n",
    "        tumor_mask_path = os.path.join(self.tumor_mask_dir, base_filename + '_seg.nii.gz')\n",
    "        scan_volume_path = os.path.join(self.scan_volume_dir, base_filename + '_vol.nii.gz')\n",
    "\n",
    "        # Load data from NIfTI files\n",
    "        lung_seg_data = nib.load(lung_seg_path).get_fdata()\n",
    "        tumor_mask_data = nib.load(tumor_mask_path).get_fdata()\n",
    "        scan_volume_data = nib.load(scan_volume_path).get_fdata()\n",
    "\n",
    "        # Convert data to PyTorch tensors\n",
    "        lung_seg_tensor = torch.tensor(lung_seg_data, dtype=torch.float32)\n",
    "        tumor_mask_tensor = torch.tensor(tumor_mask_data, dtype=torch.float32)\n",
    "        scan_volume_tensor = torch.tensor(scan_volume_data, dtype=torch.float32)\n",
    "\n",
    "        return lung_seg_tensor, tumor_mask_tensor, scan_volume_tensor\n",
    "\n",
    "\n",
    "# Path to the directory containing the data\n",
    "data_dir = '/home/ids/ext-6398/Competition/data_challenge/train'\n",
    "\n",
    "# Create an empty list to store file paths\n",
    "file_list = []\n",
    "\n",
    "# Iterate through the lung segmentation directory\n",
    "lung_seg_dir = os.path.join(data_dir, 'lungs_seg')\n",
    "for filename in os.listdir(lung_seg_dir):\n",
    "    if filename.endswith('.nii.gz'):\n",
    "        lung_seg_path = os.path.join(lung_seg_dir, filename)\n",
    "        \n",
    "        # Extract the corresponding tumor mask and scan volume filenames\n",
    "        base_filename = filename.split('_lungseg.nii.gz')[0]\n",
    "        tumor_mask_path = os.path.join(data_dir, 'seg', base_filename + '_seg.nii.gz')\n",
    "        scan_volume_path = os.path.join(data_dir, 'volume', base_filename + '_vol.nii.gz')\n",
    "\n",
    "        # Check if tumor mask and scan volume files exist\n",
    "        if os.path.exists(tumor_mask_path) and os.path.exists(scan_volume_path):\n",
    "            file_list.append({\n",
    "                'lung_segmentation': lung_seg_path,\n",
    "                'tumor_mask': tumor_mask_path,\n",
    "                'scan_volume': scan_volume_path\n",
    "            })\n",
    "\n",
    "# Print the first few entries of the file list\n",
    "for i in range(min(5, len(file_list))):\n",
    "    print(file_list[i])\n",
    "\n",
    "dataloader = CustomDataset(data_dir)"
   ]
  },
  {
   "cell_type": "code",
   "execution_count": null,
   "id": "dcb9dada",
   "metadata": {
    "scrolled": false
   },
   "outputs": [
    {
     "name": "stdout",
     "output_type": "stream",
     "text": [
      "cuda not available! Training initialized on cpu ...\n"
     ]
    }
   ],
   "source": [
    "IN_CHANNELS = 1\n",
    "NUM_CLASSES = 1\n",
    "NUM_EPOCHS = 1\n",
    "BCE_WEIGHTS = [0.004, 0.996]\n",
    "BATCH_SIZE = 1\n",
    "\n",
    "model = UNet3D(in_channels=IN_CHANNELS , num_classes= NUM_CLASSES)\n",
    "\n",
    "if torch.cuda.is_available():\n",
    "    model = model.cuda()\n",
    "    train_transforms = train_transform_cuda\n",
    "    val_transforms = val_transform_cuda \n",
    "elif not torch.cuda.is_available():\n",
    "    print('cuda not available! Training initialized on cpu ...')\n",
    "\n",
    "# Define loss function and optimizer\n",
    "criterion = nn.CrossEntropyLoss(weight=torch.Tensor(BCE_WEIGHTS))\n",
    "optimizer = optim.Adam(params=model.parameters(), lr=0.001)\n",
    "\n",
    "# Assuming you have a DataLoader named 'dataloader' as defined earlier\n",
    "for epoch in range(NUM_EPOCHS):\n",
    "    running_loss = 0.0\n",
    "    \n",
    "        # Iterate over the data loader\n",
    "    for lung_segmentations, tumor_masks, scan_volumes in dataloader:\n",
    "        # Zero the parameter gradients\n",
    "        optimizer.zero_grad()\n",
    "\n",
    "        # Assuming data shape is [batch_size, depth, height, width]\n",
    "        lung_segmentations = lung_segmentations.unsqueeze(0).unsqueeze(0)  # Add channel dimension\n",
    "        tumor_masks = tumor_masks.unsqueeze(0).unsqueeze(0)\n",
    "        scan_volumes = scan_volumes.unsqueeze(0).unsqueeze(0)\n",
    "\n",
    "        # Forward pass\n",
    "        outputs = model(scan_volumes)\n",
    "\n",
    "        # Compute the loss\n",
    "        loss = criterion(outputs, tumor_masks)\n",
    "\n",
    "        # Backward pass and optimize\n",
    "        loss.backward()\n",
    "        optimizer.step()\n",
    "\n",
    "        # Print statistics\n",
    "        running_loss += loss.item()\n",
    "\n",
    "    \n",
    "    # Print epoch statistics\n",
    "    print(f'Epoch {epoch + 1}, Loss: {running_loss / len(dataloader)}')\n",
    "\n",
    "print('Finished Training')\n",
    "\n",
    "\n",
    "torch.save(model.state_dict(), \"/home/ids/ext-6398/Competition/IPPMed/3D-UNet/model_weights\")"
   ]
  },
  {
   "cell_type": "code",
   "execution_count": null,
   "id": "9878e20e",
   "metadata": {},
   "outputs": [],
   "source": []
  }
 ],
 "metadata": {
  "kernelspec": {
   "display_name": "Python 3 (ipykernel)",
   "language": "python",
   "name": "python3"
  },
  "language_info": {
   "codemirror_mode": {
    "name": "ipython",
    "version": 3
   },
   "file_extension": ".py",
   "mimetype": "text/x-python",
   "name": "python",
   "nbconvert_exporter": "python",
   "pygments_lexer": "ipython3",
   "version": "3.9.13"
  }
 },
 "nbformat": 4,
 "nbformat_minor": 5
}
